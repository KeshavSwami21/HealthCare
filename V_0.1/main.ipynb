{
 "cells": [
  {
   "cell_type": "code",
   "execution_count": 1,
   "metadata": {},
   "outputs": [],
   "source": [
    "import re\n",
    "import random"
   ]
  },
  {
   "cell_type": "code",
   "execution_count": 2,
   "metadata": {},
   "outputs": [
    {
     "name": "stdout",
     "output_type": "stream",
     "text": [
      "Okay, have a nice Earth day!\n"
     ]
    }
   ],
   "source": [
    "class RuleBot:\n",
    "    # Potential Negative Responses\n",
    "    negative_reponses = ('no', 'nope', 'nah', 'naw', 'not a chance', 'sorry')\n",
    "    \n",
    "    # Exit conversation Keywords\n",
    "    exit_commands = ('quit', 'pause', 'exit', 'goodbye', 'bye', 'later')\n",
    "    \n",
    "    # Random starter question\n",
    "    random_question = (\n",
    "        'Why are you here?',\n",
    "        'Are there many humans like you?\\n',\n",
    "        'What do you consume for sustenance?\\n',\n",
    "        'Is there intelligent life on this planet?\\n',\n",
    "        'Does Earth have a leader?\\n',\n",
    "        'What planets have you visited?\\n',\n",
    "        'What technology do you have ont this planet?\\n'\n",
    "    )\n",
    "    \n",
    "    def __init__(self):\n",
    "        self.alienbabble = {'describe_planet_intent': r'.*\\s*your planet.*',\n",
    "                            'answer_why_intent': r'why\\sare.*'}\n",
    "    \n",
    "    \n",
    "    def greet(self):\n",
    "        self.name = input(\"What is your name?\\n\")\n",
    "        will_help = input(f\"Hi {self.name}, \\\n",
    "                          I am Rule-Bot. Will you help me learn about your planet?\\n\")\n",
    "        \n",
    "        if will_help in self.negative_reponses:\n",
    "            print(\"ok, have a nice Earth day!\")\n",
    "            return \n",
    "        self.chat()\n",
    "        \n",
    "    def make_exit(self, reply):\n",
    "        \n",
    "        for command in self.exit_commands:\n",
    "            if reply == command:\n",
    "                print(\"Okay, have a nice Earth day!\")\n",
    "                return True\n",
    "    \n",
    "    def chat(self):\n",
    "        reply = input(random.choice(self.random_question)).lower()\n",
    "        while not self.make_exit(reply):\n",
    "            reply = input(self.match_reply(reply))\n",
    "    \n",
    "    def match_reply(self, reply):\n",
    "        for key, value in self.alienbabble.items():\n",
    "            intent = key\n",
    "            regex_pattern = value\n",
    "            found_match = re.match(regex_pattern, reply)\n",
    "            \n",
    "            if found_match and intent == 'describe_planet_intent':\n",
    "                return self.describe_planet_intent()\n",
    "            elif found_match and intent == 'answer_why_intent':\n",
    "                return self.answer_why_intent()\n",
    "        \n",
    "        if not found_match:\n",
    "            return self.no_match_intent()\n",
    "    \n",
    "    def describe_planet_intent(self):\n",
    "        responses = (\"My planet is a utopia of diverse organisms and species.\\n\",\n",
    "                    \"I am from Opidipus, the capital of the Wayward Galaxies.\\n\")\n",
    "        \n",
    "        return random.choice(responses)\n",
    "    \n",
    "    def answer_why_intent(self):\n",
    "        responses = (\"I come in peace\\n\",\n",
    "                    \"I am here to collect data on your planet and its inhabitants\\n\",\n",
    "                    \"I heard the coffee is good.\\n\")\n",
    "        \n",
    "        return random.choice(responses)\n",
    "    \n",
    "    def no_match_intent(self):\n",
    "        responses = (\n",
    "            \"Please tell me more.\\n\", \"Tell me more!\\n\", \"Why do you say that?\\n\",\n",
    "            \"I see, Can you please Elaborate?\\n\", \"Interesting. Can you tell me more about that?\\n\",\n",
    "            \"I see. How do you think?\\n\", \"Why?\\n\", \"How do you think I feel when you say that?\\n\",\n",
    "        )\n",
    "        return random.choice(responses)\n",
    "    \n",
    "\n",
    "AlienBot = RuleBot()\n",
    "AlienBot.greet()"
   ]
  }
 ],
 "metadata": {
  "kernelspec": {
   "display_name": "Python 3",
   "language": "python",
   "name": "python3"
  },
  "language_info": {
   "codemirror_mode": {
    "name": "ipython",
    "version": 3
   },
   "file_extension": ".py",
   "mimetype": "text/x-python",
   "name": "python",
   "nbconvert_exporter": "python",
   "pygments_lexer": "ipython3",
   "version": "3.11.1"
  },
  "orig_nbformat": 4
 },
 "nbformat": 4,
 "nbformat_minor": 2
}
